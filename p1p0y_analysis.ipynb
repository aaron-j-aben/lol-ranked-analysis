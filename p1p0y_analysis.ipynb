{
 "cells": [
  {
   "cell_type": "markdown",
   "id": "8a09c147",
   "metadata": {},
   "source": [
    "# p1p0y#NA1 League of Legends Account Ranked Analysis\n",
    "A brief exploration of the Riot API and available data on my ranked games in\n",
    "League of Legends."
   ]
  },
  {
   "cell_type": "code",
   "execution_count": 24,
   "id": "a52101a2",
   "metadata": {},
   "outputs": [],
   "source": [
    "import os\n",
    "\n",
    "# Expires in 24 hours\n",
    "try:\n",
    "    api_key = os.getenv('RIOT_API_KEY')\n",
    "except:\n",
    "    print('Riot API key not found')\n"
   ]
  },
  {
   "cell_type": "code",
   "execution_count": 25,
   "id": "357e37f5",
   "metadata": {},
   "outputs": [],
   "source": [
    "api_acct = \"https://americas.api.riotgames.com/riot/account/v1/accounts/by-riot-id/p1p0y/NA1\"\n",
    "api_summ_info = \"https://na1.api.riotgames.com/lol/league/v4/entries/by-puuid/\"\n",
    "api_ranked_info = [\"https://americas.api.riotgames.com/lol/match/v5/matches/by-puuid/\", \"\", \"/ids?queue=420&type=ranked&start=\", \"0\", \"&count=100\", \"\"]\n",
    "api_uri = api_acct + \"?api_key=\" + api_key"
   ]
  },
  {
   "cell_type": "code",
   "execution_count": 26,
   "id": "f212fd51",
   "metadata": {},
   "outputs": [],
   "source": [
    "import requests"
   ]
  },
  {
   "cell_type": "code",
   "execution_count": 27,
   "id": "89640802",
   "metadata": {},
   "outputs": [],
   "source": [
    "acct_names = requests.get(api_uri)\n",
    "p1p0y_name_info = acct_names.json()"
   ]
  },
  {
   "cell_type": "code",
   "execution_count": 28,
   "id": "8ac40944",
   "metadata": {},
   "outputs": [],
   "source": [
    "api_p1p0y_basic_data = api_summ_info + p1p0y_name_info['puuid'] + '?api_key=' + api_key\n",
    "p1p0y_basic_data = requests.get(api_p1p0y_basic_data).json()"
   ]
  },
  {
   "cell_type": "code",
   "execution_count": 29,
   "id": "9fe661f5",
   "metadata": {},
   "outputs": [],
   "source": [
    "api_ranked_info[1] = p1p0y_name_info['puuid']\n",
    "api_ranked_info[5] = '&api_key=' + api_key\n",
    "api_p1p0y_ranked_match_history = ''.join(api_ranked_info)"
   ]
  },
  {
   "cell_type": "code",
   "execution_count": 30,
   "id": "e2b16814",
   "metadata": {},
   "outputs": [],
   "source": [
    "# collect all match ids into a list\n",
    "match_ids = []\n",
    "more_matches = True\n",
    "while more_matches:\n",
    "    addl_matches = list(requests.get(api_p1p0y_ranked_match_history).json())\n",
    "    match_ids.extend(addl_matches)\n",
    "    if len(addl_matches) < 100:\n",
    "        more_matches = False\n",
    "\n",
    "    api_ranked_info[3] = str(int(api_ranked_info[3]) + 100)\n",
    "    api_p1p0y_ranked_match_history = ''.join(api_ranked_info)\n",
    "\n",
    "api_ranked_info[3] = '0'"
   ]
  },
  {
   "cell_type": "markdown",
   "id": "d7a51dc4",
   "metadata": {},
   "source": [
    "**Find best way to store and process all of the match jsons**"
   ]
  },
  {
   "cell_type": "code",
   "execution_count": null,
   "id": "29291098",
   "metadata": {},
   "outputs": [],
   "source": [
    "match_id = ...\n",
    "api_match_info = \"https://americas.api.riotgames.com/lol/match/v5/matches/\" + match_id + '?api_key=' + api_key"
   ]
  }
 ],
 "metadata": {
  "kernelspec": {
   "display_name": "test2",
   "language": "python",
   "name": "python3"
  },
  "language_info": {
   "codemirror_mode": {
    "name": "ipython",
    "version": 3
   },
   "file_extension": ".py",
   "mimetype": "text/x-python",
   "name": "python",
   "nbconvert_exporter": "python",
   "pygments_lexer": "ipython3",
   "version": "3.11.11"
  }
 },
 "nbformat": 4,
 "nbformat_minor": 5
}
